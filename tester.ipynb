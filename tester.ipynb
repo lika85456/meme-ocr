{
 "cells": [
  {
   "cell_type": "markdown",
   "metadata": {},
   "source": [
    "# OCR testing utility\n",
    "This notebook will compare combinations multiple OCR engines and filters against a set of images.\n",
    "\n",
    "Supported OCR engines:\n",
    "- Tesseract\n",
    "- EasyOCR\n",
    "\n",
    "Supported filters:\n",
    "- Thresholding\n",
    "- Adaptive Thresholding\n",
    "- Grayscaling\n",
    "\n",
    "\n",
    "## Test set\n",
    "Collection of memes from reddit was OCRed by Google Vision API."
   ]
  },
  {
   "cell_type": "code",
   "execution_count": 2,
   "metadata": {},
   "outputs": [
    {
     "name": "stderr",
     "output_type": "stream",
     "text": [
      "CUDA not available - defaulting to CPU. Note: This module is much faster with a GPU.\n"
     ]
    }
   ],
   "source": [
    "import easyocr\n",
    "import pytesseract\n",
    "import cv2\n",
    "import json\n",
    "\n",
    "# load all 1000 images from testSet folder\n",
    "images = []\n",
    "for i in range(0, 1000):\n",
    "    images.append(cv2.imread(f\"testSet/{i}.jpg\"))\n",
    "\n",
    "# load ocr results from ocr.json\n",
    "with open(\"ocr.json\", \"r\") as f:\n",
    "    ocr = json.load(f)\n",
    "        \n",
    "\n",
    "# each testing function will measure time and accuracy\n"
   ]
  },
  {
   "cell_type": "markdown",
   "metadata": {},
   "source": []
  }
 ],
 "metadata": {
  "kernelspec": {
   "display_name": "Python 3.10.5 64-bit",
   "language": "python",
   "name": "python3"
  },
  "language_info": {
   "codemirror_mode": {
    "name": "ipython",
    "version": 3
   },
   "file_extension": ".py",
   "mimetype": "text/x-python",
   "name": "python",
   "nbconvert_exporter": "python",
   "pygments_lexer": "ipython3",
   "version": "3.10.5"
  },
  "orig_nbformat": 4,
  "vscode": {
   "interpreter": {
    "hash": "e7370f93d1d0cde622a1f8e1c04877d8463912d04d973331ad4851f04de6915a"
   }
  }
 },
 "nbformat": 4,
 "nbformat_minor": 2
}
