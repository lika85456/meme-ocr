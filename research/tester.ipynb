{
 "cells": [
  {
   "cell_type": "markdown",
   "metadata": {},
   "source": [
    "# OCR testing utility\n",
    "This notebook will compare combinations multiple OCR engines and filters against a set of images.\n",
    "\n",
    "Supported OCR engines:\n",
    "- Tesseract\n",
    "- EasyOCR\n",
    "\n",
    "Supported filters:\n",
    "- Thresholding\n",
    "- Adaptive Thresholding\n",
    "- Grayscaling\n",
    "\n",
    "\n",
    "## Test set\n",
    "Collection of memes from reddit was OCRed by Google Vision API.\n",
    "\n",
    "# Result\n",
    "For each image, we calculate\n",
    "- Time to OCR\n",
    "- Accuracy of OCR\n",
    "\n",
    "# Calculating accuracy\n",
    "Since the results will be used in search engine and they resemble english words most of the times, I just calculate how many words are the same in both results."
   ]
  },
  {
   "cell_type": "code",
   "execution_count": 2,
   "metadata": {},
   "outputs": [
    {
     "ename": "NameError",
     "evalue": "name 'Image' is not defined",
     "output_type": "error",
     "traceback": [
      "\u001b[0;31m---------------------------------------------------------------------------\u001b[0m",
      "\u001b[0;31mNameError\u001b[0m                                 Traceback (most recent call last)",
      "\u001b[0;32m/tmp/ipykernel_60161/289121591.py\u001b[0m in \u001b[0;36m<module>\u001b[0;34m\u001b[0m\n\u001b[1;32m     87\u001b[0m     \u001b[0;32mreturn\u001b[0m \u001b[0mresults\u001b[0m\u001b[0;34m\u001b[0m\u001b[0;34m\u001b[0m\u001b[0m\n\u001b[1;32m     88\u001b[0m \u001b[0;34m\u001b[0m\u001b[0m\n\u001b[0;32m---> 89\u001b[0;31m \u001b[0;32mdef\u001b[0m \u001b[0mapplyFilters\u001b[0m\u001b[0;34m(\u001b[0m\u001b[0mimage\u001b[0m\u001b[0;34m,\u001b[0m \u001b[0mfilters\u001b[0m\u001b[0;34m:\u001b[0m \u001b[0mlist\u001b[0m\u001b[0;34m)\u001b[0m\u001b[0;34m->\u001b[0m \u001b[0mImage\u001b[0m\u001b[0;34m:\u001b[0m\u001b[0;34m\u001b[0m\u001b[0;34m\u001b[0m\u001b[0m\n\u001b[0m\u001b[1;32m     90\u001b[0m     \u001b[0;32mfor\u001b[0m \u001b[0mfilter\u001b[0m \u001b[0;32min\u001b[0m \u001b[0mfilters\u001b[0m\u001b[0;34m:\u001b[0m\u001b[0;34m\u001b[0m\u001b[0;34m\u001b[0m\u001b[0m\n\u001b[1;32m     91\u001b[0m         \u001b[0;32mif\u001b[0m \u001b[0mfilter\u001b[0m\u001b[0;34m.\u001b[0m\u001b[0mtype\u001b[0m \u001b[0;34m==\u001b[0m \u001b[0;34m'gray'\u001b[0m\u001b[0;34m:\u001b[0m\u001b[0;34m\u001b[0m\u001b[0;34m\u001b[0m\u001b[0m\n",
      "\u001b[0;31mNameError\u001b[0m: name 'Image' is not defined"
     ]
    }
   ],
   "source": [
    "import easyocr\n",
    "import pytesseract\n",
    "import cv2\n",
    "import json\n",
    "import os\n",
    "import time\n",
    "import matplotlib.pyplot as plt\n",
    "import numpy as np\n",
    "from dataclasses import dataclass\n",
    "from typing import List, Dict, Any, Literal\n",
    "\n",
    "# Loads image path and its corresponding text\n",
    "def loadMeme(memeId: str) -> tuple:\n",
    "    imageFile = None\n",
    "    for ext in ['jpg', 'jpeg', 'png']:\n",
    "        if os.path.isfile(f'./memes/{memeId}.{ext}'):\n",
    "            imageFile = f'./memes/{memeId}.{ext}'\n",
    "            break\n",
    "\n",
    "    if imageFile is None:\n",
    "        raise Exception(f'Could not find image file for meme {memeId}')\n",
    "\n",
    "    # load text file .txt\n",
    "    with open(f'./memes/{memeId}.txt', 'r') as f:\n",
    "        text = f.read().splitlines()\n",
    "\n",
    "    return imageFile, text    \n",
    "\n",
    "def loadDataset() -> List[(str, List[str])]:\n",
    "    memeIds = set([memeId.split('.')[0] for memeId in os.listdir('./memes') if memeId.endswith('.txt')])\n",
    "\n",
    "    return [loadMeme(memeId) for memeId in memeIds]"
   ]
  },
  {
   "cell_type": "markdown",
   "metadata": {},
   "source": [
    "# Test both engines with no filters, to get some reference and idea of how good the OCR is going to be."
   ]
  },
  {
   "cell_type": "code",
   "execution_count": 6,
   "metadata": {},
   "outputs": [
    {
     "data": {
      "image/png": "[encoded data removed]",
      "text/plain": [
       "<Figure size 432x288 with 1 Axes>"
      ]
     },
     "metadata": {
      "needs_background": "light"
     },
     "output_type": "display_data"
    }
   ],
   "source": []
  },
  {
   "cell_type": "markdown",
   "metadata": {},
   "source": [
    "Now that we have test results for each combination, we can compare them and show some nice graphs."
   ]
  },
  {
   "cell_type": "code",
   "execution_count": null,
   "metadata": {},
   "outputs": [],
   "source": [
    "\n",
    "def printResult(result: list, settings: TestSettings):\n",
    "    # print test settings\n",
    "    print(f'Test settings: {settings}')\n",
    "    print(f'Number of memes: {len(result)}')\n",
    "\n",
    "    # calculate average time and success rate\n",
    "    avgTime = sum([test.time for test in result]) / len(result)\n",
    "    avgSuccess = sum([test.success for test in result]) / len(result)\n",
    "\n",
    "    print(f'Average time: {avgTime}')\n",
    "    print(f'Average success rate: {avgSuccess}')\n",
    "\n",
    "    # calculate median time and success rate\n",
    "    sortedTime = sorted([test.time for test in result])\n",
    "    sortedSuccess = sorted([test.success for test in result])\n",
    "\n",
    "    medianTime = sortedTime[len(sortedTime) // 2]\n",
    "    medianSuccess = sortedSuccess[len(sortedSuccess) // 2]\n",
    "\n",
    "    print(f'Median time: {medianTime}')\n",
    "    print(f'Median success rate: {medianSuccess}')\n",
    "\n",
    "    # render results in graph\n",
    "    # time for each meme\n",
    "    plt.figure(figsize=(20, 10))\n",
    "    plt.bar(range(len(result)), [test.time for test in result])\n",
    "    plt.title('Time for each meme')\n",
    "    plt.xlabel('Meme')\n",
    "    plt.ylabel('Time (s)')\n",
    "    plt.show()\n",
    "\n",
    "    # success rate for each meme\n",
    "    plt.figure(figsize=(20, 10))\n",
    "    plt.bar(range(len(result)), [test.success for test in result])\n",
    "    plt.title('Success rate for each meme')\n",
    "    plt.xlabel('Meme')\n",
    "    plt.ylabel('Success rate')\n",
    "    plt.show()"
   ]
  },
  {
   "cell_type": "markdown",
   "metadata": {},
   "source": []
  }
 ],
 "metadata": {
  "kernelspec": {
   "display_name": "Python 3.10.5 64-bit",
   "language": "python",
   "name": "python3"
  },
  "language_info": {
   "codemirror_mode": {
    "name": "ipython",
    "version": 3
   },
   "file_extension": ".py",
   "mimetype": "text/x-python",
   "name": "python",
   "nbconvert_exporter": "python",
   "pygments_lexer": "ipython3",
   "version": "3.10.7"
  },
  "orig_nbformat": 4,
  "vscode": {
   "interpreter": {
    "hash": "e7370f93d1d0cde622a1f8e1c04877d8463912d04d973331ad4851f04de6915a"
   }
  }
 },
 "nbformat": 4,
 "nbformat_minor": 2
}
